{
 "cells": [
  {
   "cell_type": "code",
   "execution_count": 1,
   "metadata": {},
   "outputs": [
    {
     "name": "stdout",
     "output_type": "stream",
     "text": [
      "/media/Solid/data/patents\n"
     ]
    }
   ],
   "source": [
    "cd ~/work/patents"
   ]
  },
  {
   "cell_type": "code",
   "execution_count": 85,
   "metadata": {},
   "outputs": [],
   "source": [
    "import warnings\n",
    "warnings.filterwarnings('ignore')"
   ]
  },
  {
   "cell_type": "code",
   "execution_count": 2,
   "metadata": {},
   "outputs": [],
   "source": [
    "run -i analyze_panel.py"
   ]
  },
  {
   "cell_type": "code",
   "execution_count": 36,
   "metadata": {},
   "outputs": [],
   "source": [
    "from mectools import data\n",
    "import statsmodels.formula.api as smf\n",
    "import statsmodels.api as sm"
   ]
  },
  {
   "cell_type": "code",
   "execution_count": 147,
   "metadata": {},
   "outputs": [
    {
     "name": "stdout",
     "output_type": "stream",
     "text": [
      "233682\n"
     ]
    }
   ],
   "source": [
    "# aggregation leve\n",
    "datf = datf_year.copy()\n",
    "# datf = datf.query('rnd_total > 0')\n",
    "datf = datf.query('n_citing_total > 0')\n",
    "\n",
    "# datf = datf_period.copy()\n",
    "# datf = datf.query('rnd_total > 0')\n",
    "# datf = datf.query('active == 5 and active_next == 5')\n",
    "\n",
    "print(len(datf))"
   ]
  },
  {
   "cell_type": "code",
   "execution_count": 148,
   "metadata": {},
   "outputs": [
    {
     "data": {
      "text/html": [
       "<table class=\"simpletable\">\n",
       "<caption>OLS Regression Results</caption>\n",
       "<tr>\n",
       "  <th>Dep. Variable:</th>      <td>n_citing_next</td>  <th>  R-squared:         </th> <td>   0.044</td> \n",
       "</tr>\n",
       "<tr>\n",
       "  <th>Model:</th>                   <td>OLS</td>       <th>  Adj. R-squared:    </th> <td>   0.044</td> \n",
       "</tr>\n",
       "<tr>\n",
       "  <th>Method:</th>             <td>Least Squares</td>  <th>  F-statistic:       </th> <td>   339.6</td> \n",
       "</tr>\n",
       "<tr>\n",
       "  <th>Date:</th>             <td>Mon, 12 Nov 2018</td> <th>  Prob (F-statistic):</th> <td>3.44e-74</td> \n",
       "</tr>\n",
       "<tr>\n",
       "  <th>Time:</th>                 <td>16:18:19</td>     <th>  Log-Likelihood:    </th> <td> -63281.</td> \n",
       "</tr>\n",
       "<tr>\n",
       "  <th>No. Observations:</th>      <td>  7437</td>      <th>  AIC:               </th> <td>1.266e+05</td>\n",
       "</tr>\n",
       "<tr>\n",
       "  <th>Df Residuals:</th>          <td>  7435</td>      <th>  BIC:               </th> <td>1.266e+05</td>\n",
       "</tr>\n",
       "<tr>\n",
       "  <th>Df Model:</th>              <td>     1</td>      <th>                     </th>     <td> </td>    \n",
       "</tr>\n",
       "<tr>\n",
       "  <th>Covariance Type:</th>      <td>nonrobust</td>    <th>                     </th>     <td> </td>    \n",
       "</tr>\n",
       "</table>\n",
       "<table class=\"simpletable\">\n",
       "<tr>\n",
       "      <td></td>         <th>coef</th>     <th>std err</th>      <th>t</th>      <th>P>|t|</th>  <th>[0.025</th>    <th>0.975]</th>  \n",
       "</tr>\n",
       "<tr>\n",
       "  <th>Intercept</th> <td>   90.9137</td> <td>   14.496</td> <td>    6.272</td> <td> 0.000</td> <td>   62.498</td> <td>  119.329</td>\n",
       "</tr>\n",
       "<tr>\n",
       "  <th>rnd</th>       <td>    0.3569</td> <td>    0.019</td> <td>   18.428</td> <td> 0.000</td> <td>    0.319</td> <td>    0.395</td>\n",
       "</tr>\n",
       "</table>\n",
       "<table class=\"simpletable\">\n",
       "<tr>\n",
       "  <th>Omnibus:</th>       <td>13967.654</td> <th>  Durbin-Watson:     </th>   <td>   0.793</td>  \n",
       "</tr>\n",
       "<tr>\n",
       "  <th>Prob(Omnibus):</th>  <td> 0.000</td>   <th>  Jarque-Bera (JB):  </th> <td>21310990.197</td>\n",
       "</tr>\n",
       "<tr>\n",
       "  <th>Skew:</th>           <td>14.383</td>   <th>  Prob(JB):          </th>   <td>    0.00</td>  \n",
       "</tr>\n",
       "<tr>\n",
       "  <th>Kurtosis:</th>       <td>263.663</td>  <th>  Cond. No.          </th>   <td>    780.</td>  \n",
       "</tr>\n",
       "</table><br/><br/>Warnings:<br/>[1] Standard Errors assume that the covariance matrix of the errors is correctly specified."
      ],
      "text/plain": [
       "<class 'statsmodels.iolib.summary.Summary'>\n",
       "\"\"\"\n",
       "                            OLS Regression Results                            \n",
       "==============================================================================\n",
       "Dep. Variable:          n_citing_next   R-squared:                       0.044\n",
       "Model:                            OLS   Adj. R-squared:                  0.044\n",
       "Method:                 Least Squares   F-statistic:                     339.6\n",
       "Date:                Mon, 12 Nov 2018   Prob (F-statistic):           3.44e-74\n",
       "Time:                        16:18:19   Log-Likelihood:                -63281.\n",
       "No. Observations:                7437   AIC:                         1.266e+05\n",
       "Df Residuals:                    7435   BIC:                         1.266e+05\n",
       "Df Model:                           1                                         \n",
       "Covariance Type:            nonrobust                                         \n",
       "==============================================================================\n",
       "                 coef    std err          t      P>|t|      [0.025      0.975]\n",
       "------------------------------------------------------------------------------\n",
       "Intercept     90.9137     14.496      6.272      0.000      62.498     119.329\n",
       "rnd            0.3569      0.019     18.428      0.000       0.319       0.395\n",
       "==============================================================================\n",
       "Omnibus:                    13967.654   Durbin-Watson:                   0.793\n",
       "Prob(Omnibus):                  0.000   Jarque-Bera (JB):         21310990.197\n",
       "Skew:                          14.383   Prob(JB):                         0.00\n",
       "Kurtosis:                     263.663   Cond. No.                         780.\n",
       "==============================================================================\n",
       "\n",
       "Warnings:\n",
       "[1] Standard Errors assume that the covariance matrix of the errors is correctly specified.\n",
       "\"\"\""
      ]
     },
     "execution_count": 148,
     "metadata": {},
     "output_type": "execute_result"
    }
   ],
   "source": [
    "# linear formulation at period level\n",
    "datf_reg = datf[['n_citing_next', 'rnd', 'revenue']]\n",
    "datf_log = data.log(datf_reg).add_prefix('log_')\n",
    "datf_reg = datf_reg.join(datf_log)\n",
    "ret = smf.ols('n_citing_next ~ rnd', data=datf_reg).fit()\n",
    "ret.summary()"
   ]
  },
  {
   "cell_type": "code",
   "execution_count": 149,
   "metadata": {},
   "outputs": [
    {
     "data": {
      "text/html": [
       "<table class=\"simpletable\">\n",
       "<caption>OLS Regression Results</caption>\n",
       "<tr>\n",
       "  <th>Dep. Variable:</th>    <td>log_n_citing_next</td> <th>  R-squared:         </th> <td>   0.061</td> \n",
       "</tr>\n",
       "<tr>\n",
       "  <th>Model:</th>                   <td>OLS</td>        <th>  Adj. R-squared:    </th> <td>   0.061</td> \n",
       "</tr>\n",
       "<tr>\n",
       "  <th>Method:</th>             <td>Least Squares</td>   <th>  F-statistic:       </th> <td>   240.6</td> \n",
       "</tr>\n",
       "<tr>\n",
       "  <th>Date:</th>             <td>Mon, 12 Nov 2018</td>  <th>  Prob (F-statistic):</th> <td>5.55e-102</td>\n",
       "</tr>\n",
       "<tr>\n",
       "  <th>Time:</th>                 <td>16:18:21</td>      <th>  Log-Likelihood:    </th> <td> -7601.6</td> \n",
       "</tr>\n",
       "<tr>\n",
       "  <th>No. Observations:</th>      <td>  7437</td>       <th>  AIC:               </th> <td>1.521e+04</td>\n",
       "</tr>\n",
       "<tr>\n",
       "  <th>Df Residuals:</th>          <td>  7434</td>       <th>  BIC:               </th> <td>1.523e+04</td>\n",
       "</tr>\n",
       "<tr>\n",
       "  <th>Df Model:</th>              <td>     2</td>       <th>                     </th>     <td> </td>    \n",
       "</tr>\n",
       "<tr>\n",
       "  <th>Covariance Type:</th>      <td>nonrobust</td>     <th>                     </th>     <td> </td>    \n",
       "</tr>\n",
       "</table>\n",
       "<table class=\"simpletable\">\n",
       "<tr>\n",
       "       <td></td>          <th>coef</th>     <th>std err</th>      <th>t</th>      <th>P>|t|</th>  <th>[0.025</th>    <th>0.975]</th>  \n",
       "</tr>\n",
       "<tr>\n",
       "  <th>Intercept</th>   <td>    3.7213</td> <td>    0.054</td> <td>   69.395</td> <td> 0.000</td> <td>    3.616</td> <td>    3.826</td>\n",
       "</tr>\n",
       "<tr>\n",
       "  <th>log_revenue</th> <td>   -0.0572</td> <td>    0.008</td> <td>   -7.567</td> <td> 0.000</td> <td>   -0.072</td> <td>   -0.042</td>\n",
       "</tr>\n",
       "<tr>\n",
       "  <th>log_rnd</th>     <td>    0.2979</td> <td>    0.016</td> <td>   18.381</td> <td> 0.000</td> <td>    0.266</td> <td>    0.330</td>\n",
       "</tr>\n",
       "</table>\n",
       "<table class=\"simpletable\">\n",
       "<tr>\n",
       "  <th>Omnibus:</th>       <td>4872.563</td> <th>  Durbin-Watson:     </th> <td>   0.896</td> \n",
       "</tr>\n",
       "<tr>\n",
       "  <th>Prob(Omnibus):</th>  <td> 0.000</td>  <th>  Jarque-Bera (JB):  </th> <td>56494.060</td>\n",
       "</tr>\n",
       "<tr>\n",
       "  <th>Skew:</th>           <td> 3.069</td>  <th>  Prob(JB):          </th> <td>    0.00</td> \n",
       "</tr>\n",
       "<tr>\n",
       "  <th>Kurtosis:</th>       <td>15.026</td>  <th>  Cond. No.          </th> <td>    59.5</td> \n",
       "</tr>\n",
       "</table><br/><br/>Warnings:<br/>[1] Standard Errors assume that the covariance matrix of the errors is correctly specified."
      ],
      "text/plain": [
       "<class 'statsmodels.iolib.summary.Summary'>\n",
       "\"\"\"\n",
       "                            OLS Regression Results                            \n",
       "==============================================================================\n",
       "Dep. Variable:      log_n_citing_next   R-squared:                       0.061\n",
       "Model:                            OLS   Adj. R-squared:                  0.061\n",
       "Method:                 Least Squares   F-statistic:                     240.6\n",
       "Date:                Mon, 12 Nov 2018   Prob (F-statistic):          5.55e-102\n",
       "Time:                        16:18:21   Log-Likelihood:                -7601.6\n",
       "No. Observations:                7437   AIC:                         1.521e+04\n",
       "Df Residuals:                    7434   BIC:                         1.523e+04\n",
       "Df Model:                           2                                         \n",
       "Covariance Type:            nonrobust                                         \n",
       "===============================================================================\n",
       "                  coef    std err          t      P>|t|      [0.025      0.975]\n",
       "-------------------------------------------------------------------------------\n",
       "Intercept       3.7213      0.054     69.395      0.000       3.616       3.826\n",
       "log_revenue    -0.0572      0.008     -7.567      0.000      -0.072      -0.042\n",
       "log_rnd         0.2979      0.016     18.381      0.000       0.266       0.330\n",
       "==============================================================================\n",
       "Omnibus:                     4872.563   Durbin-Watson:                   0.896\n",
       "Prob(Omnibus):                  0.000   Jarque-Bera (JB):            56494.060\n",
       "Skew:                           3.069   Prob(JB):                         0.00\n",
       "Kurtosis:                      15.026   Cond. No.                         59.5\n",
       "==============================================================================\n",
       "\n",
       "Warnings:\n",
       "[1] Standard Errors assume that the covariance matrix of the errors is correctly specified.\n",
       "\"\"\""
      ]
     },
     "execution_count": 149,
     "metadata": {},
     "output_type": "execute_result"
    }
   ],
   "source": [
    "# log(1+x) formulation at period level\n",
    "datf_reg = datf[['n_citing_next', 'rnd', 'revenue']]\n",
    "datf_log = data.log(100+datf_reg).add_prefix('log_')\n",
    "datf_reg = datf_reg.join(datf_log)\n",
    "ret = smf.ols('log_n_citing_next ~ log_revenue + log_rnd', data=datf_reg).fit()\n",
    "ret.summary()"
   ]
  },
  {
   "cell_type": "code",
   "execution_count": 150,
   "metadata": {},
   "outputs": [
    {
     "data": {
      "text/html": [
       "<table class=\"simpletable\">\n",
       "<caption>OLS Regression Results</caption>\n",
       "<tr>\n",
       "  <th>Dep. Variable:</th>    <td>log_n_citing_next</td> <th>  R-squared:         </th> <td>   0.037</td> \n",
       "</tr>\n",
       "<tr>\n",
       "  <th>Model:</th>                   <td>OLS</td>        <th>  Adj. R-squared:    </th> <td>   0.037</td> \n",
       "</tr>\n",
       "<tr>\n",
       "  <th>Method:</th>             <td>Least Squares</td>   <th>  F-statistic:       </th> <td>   96.05</td> \n",
       "</tr>\n",
       "<tr>\n",
       "  <th>Date:</th>             <td>Mon, 12 Nov 2018</td>  <th>  Prob (F-statistic):</th> <td>2.81e-22</td> \n",
       "</tr>\n",
       "<tr>\n",
       "  <th>Time:</th>                 <td>16:18:32</td>      <th>  Log-Likelihood:    </th> <td> -5415.6</td> \n",
       "</tr>\n",
       "<tr>\n",
       "  <th>No. Observations:</th>      <td>  2499</td>       <th>  AIC:               </th> <td>1.084e+04</td>\n",
       "</tr>\n",
       "<tr>\n",
       "  <th>Df Residuals:</th>          <td>  2497</td>       <th>  BIC:               </th> <td>1.085e+04</td>\n",
       "</tr>\n",
       "<tr>\n",
       "  <th>Df Model:</th>              <td>     1</td>       <th>                     </th>     <td> </td>    \n",
       "</tr>\n",
       "<tr>\n",
       "  <th>Covariance Type:</th>      <td>nonrobust</td>     <th>                     </th>     <td> </td>    \n",
       "</tr>\n",
       "</table>\n",
       "<table class=\"simpletable\">\n",
       "<tr>\n",
       "      <td></td>         <th>coef</th>     <th>std err</th>      <th>t</th>      <th>P>|t|</th>  <th>[0.025</th>    <th>0.975]</th>  \n",
       "</tr>\n",
       "<tr>\n",
       "  <th>Intercept</th> <td>    3.2930</td> <td>    0.082</td> <td>   40.134</td> <td> 0.000</td> <td>    3.132</td> <td>    3.454</td>\n",
       "</tr>\n",
       "<tr>\n",
       "  <th>log_rnd</th>   <td>    0.1984</td> <td>    0.020</td> <td>    9.801</td> <td> 0.000</td> <td>    0.159</td> <td>    0.238</td>\n",
       "</tr>\n",
       "</table>\n",
       "<table class=\"simpletable\">\n",
       "<tr>\n",
       "  <th>Omnibus:</th>       <td>48.829</td> <th>  Durbin-Watson:     </th> <td>   1.290</td>\n",
       "</tr>\n",
       "<tr>\n",
       "  <th>Prob(Omnibus):</th> <td> 0.000</td> <th>  Jarque-Bera (JB):  </th> <td>  47.073</td>\n",
       "</tr>\n",
       "<tr>\n",
       "  <th>Skew:</th>          <td>-0.302</td> <th>  Prob(JB):          </th> <td>6.00e-11</td>\n",
       "</tr>\n",
       "<tr>\n",
       "  <th>Kurtosis:</th>      <td> 2.703</td> <th>  Cond. No.          </th> <td>    8.22</td>\n",
       "</tr>\n",
       "</table><br/><br/>Warnings:<br/>[1] Standard Errors assume that the covariance matrix of the errors is correctly specified."
      ],
      "text/plain": [
       "<class 'statsmodels.iolib.summary.Summary'>\n",
       "\"\"\"\n",
       "                            OLS Regression Results                            \n",
       "==============================================================================\n",
       "Dep. Variable:      log_n_citing_next   R-squared:                       0.037\n",
       "Model:                            OLS   Adj. R-squared:                  0.037\n",
       "Method:                 Least Squares   F-statistic:                     96.05\n",
       "Date:                Mon, 12 Nov 2018   Prob (F-statistic):           2.81e-22\n",
       "Time:                        16:18:32   Log-Likelihood:                -5415.6\n",
       "No. Observations:                2499   AIC:                         1.084e+04\n",
       "Df Residuals:                    2497   BIC:                         1.085e+04\n",
       "Df Model:                           1                                         \n",
       "Covariance Type:            nonrobust                                         \n",
       "==============================================================================\n",
       "                 coef    std err          t      P>|t|      [0.025      0.975]\n",
       "------------------------------------------------------------------------------\n",
       "Intercept      3.2930      0.082     40.134      0.000       3.132       3.454\n",
       "log_rnd        0.1984      0.020      9.801      0.000       0.159       0.238\n",
       "==============================================================================\n",
       "Omnibus:                       48.829   Durbin-Watson:                   1.290\n",
       "Prob(Omnibus):                  0.000   Jarque-Bera (JB):               47.073\n",
       "Skew:                          -0.302   Prob(JB):                     6.00e-11\n",
       "Kurtosis:                       2.703   Cond. No.                         8.22\n",
       "==============================================================================\n",
       "\n",
       "Warnings:\n",
       "[1] Standard Errors assume that the covariance matrix of the errors is correctly specified.\n",
       "\"\"\""
      ]
     },
     "execution_count": 150,
     "metadata": {},
     "output_type": "execute_result"
    }
   ],
   "source": [
    "# log(x) formulation at period level\n",
    "datf_reg = datf[['n_citing_next', 'rnd']]\n",
    "datf_log = data.log(datf_reg).add_prefix('log_')\n",
    "datf_reg = datf_reg.join(datf_log)\n",
    "ret = smf.ols('log_n_citing_next ~ log_rnd', data=datf_reg).fit()\n",
    "ret.summary()"
   ]
  },
  {
   "cell_type": "code",
   "execution_count": 153,
   "metadata": {},
   "outputs": [
    {
     "data": {
      "text/html": [
       "<table class=\"simpletable\">\n",
       "<caption>Generalized Linear Model Regression Results</caption>\n",
       "<tr>\n",
       "  <th>Dep. Variable:</th>    <td>n_citing_next</td>  <th>  No. Observations:  </th>   <td>  7287</td>   \n",
       "</tr>\n",
       "<tr>\n",
       "  <th>Model:</th>                 <td>GLM</td>       <th>  Df Residuals:      </th>   <td>  7284</td>   \n",
       "</tr>\n",
       "<tr>\n",
       "  <th>Model Family:</th>        <td>Poisson</td>     <th>  Df Model:          </th>   <td>     2</td>   \n",
       "</tr>\n",
       "<tr>\n",
       "  <th>Link Function:</th>         <td>log</td>       <th>  Scale:             </th>  <td>  1.0000</td>  \n",
       "</tr>\n",
       "<tr>\n",
       "  <th>Method:</th>               <td>IRLS</td>       <th>  Log-Likelihood:    </th> <td>-2.6477e+06</td>\n",
       "</tr>\n",
       "<tr>\n",
       "  <th>Date:</th>           <td>Mon, 12 Nov 2018</td> <th>  Deviance:          </th> <td>5.2809e+06</td> \n",
       "</tr>\n",
       "<tr>\n",
       "  <th>Time:</th>               <td>16:24:32</td>     <th>  Pearson chi2:      </th>  <td>1.75e+07</td>  \n",
       "</tr>\n",
       "<tr>\n",
       "  <th>No. Iterations:</th>         <td>7</td>        <th>  Covariance Type:   </th>  <td>nonrobust</td> \n",
       "</tr>\n",
       "</table>\n",
       "<table class=\"simpletable\">\n",
       "<tr>\n",
       "       <td></td>          <th>coef</th>     <th>std err</th>      <th>z</th>      <th>P>|z|</th>  <th>[0.025</th>    <th>0.975]</th>  \n",
       "</tr>\n",
       "<tr>\n",
       "  <th>Intercept</th>   <td>    2.5433</td> <td>    0.003</td> <td>  900.484</td> <td> 0.000</td> <td>    2.538</td> <td>    2.549</td>\n",
       "</tr>\n",
       "<tr>\n",
       "  <th>log_revenue</th> <td>   -0.1717</td> <td>    0.001</td> <td> -280.019</td> <td> 0.000</td> <td>   -0.173</td> <td>   -0.171</td>\n",
       "</tr>\n",
       "<tr>\n",
       "  <th>log_rnd</th>     <td>    0.8152</td> <td>    0.001</td> <td>  932.084</td> <td> 0.000</td> <td>    0.813</td> <td>    0.817</td>\n",
       "</tr>\n",
       "</table>"
      ],
      "text/plain": [
       "<class 'statsmodels.iolib.summary.Summary'>\n",
       "\"\"\"\n",
       "                 Generalized Linear Model Regression Results                  \n",
       "==============================================================================\n",
       "Dep. Variable:          n_citing_next   No. Observations:                 7287\n",
       "Model:                            GLM   Df Residuals:                     7284\n",
       "Model Family:                 Poisson   Df Model:                            2\n",
       "Link Function:                    log   Scale:                          1.0000\n",
       "Method:                          IRLS   Log-Likelihood:            -2.6477e+06\n",
       "Date:                Mon, 12 Nov 2018   Deviance:                   5.2809e+06\n",
       "Time:                        16:24:32   Pearson chi2:                 1.75e+07\n",
       "No. Iterations:                     7   Covariance Type:             nonrobust\n",
       "===============================================================================\n",
       "                  coef    std err          z      P>|z|      [0.025      0.975]\n",
       "-------------------------------------------------------------------------------\n",
       "Intercept       2.5433      0.003    900.484      0.000       2.538       2.549\n",
       "log_revenue    -0.1717      0.001   -280.019      0.000      -0.173      -0.171\n",
       "log_rnd         0.8152      0.001    932.084      0.000       0.813       0.817\n",
       "===============================================================================\n",
       "\"\"\""
      ]
     },
     "execution_count": 153,
     "metadata": {},
     "output_type": "execute_result"
    }
   ],
   "source": [
    "# poisson regression\n",
    "datf_reg = datf[['n_citing_next', 'rnd', 'revenue']]\n",
    "datf_log = data.log(datf_reg[['rnd', 'revenue']]).add_prefix('log_')\n",
    "datf_reg = datf_reg.join(datf_log)\n",
    "ret = smf.glm('n_citing_next ~ log_revenue + log_rnd', data=datf_reg.dropna(), family=sm.families.Poisson()).fit()\n",
    "ret.summary()"
   ]
  },
  {
   "cell_type": "code",
   "execution_count": 112,
   "metadata": {},
   "outputs": [
    {
     "data": {
      "image/png": "[encoded data removed]",
      "text/plain": [
       "<Figure size 432x288 with 1 Axes>"
      ]
     },
     "metadata": {
      "needs_background": "light"
     },
     "output_type": "display_data"
    }
   ],
   "source": [
    "data.log(datf_reg['rnd']).hist(log=True, grid=False, bins=25);"
   ]
  },
  {
   "cell_type": "code",
   "execution_count": 113,
   "metadata": {},
   "outputs": [
    {
     "data": {
      "text/plain": [
       "9.652000000000001"
      ]
     },
     "execution_count": 113,
     "metadata": {},
     "output_type": "execute_result"
    }
   ],
   "source": [
    "datf_reg.query('rnd>0').rnd.median()"
   ]
  },
  {
   "cell_type": "code",
   "execution_count": null,
   "metadata": {},
   "outputs": [],
   "source": []
  }
 ],
 "metadata": {
  "kernelspec": {
   "display_name": "Python 3.7",
   "language": "python",
   "name": "python3.7"
  },
  "language_info": {
   "codemirror_mode": {
    "name": "ipython",
    "version": 3
   },
   "file_extension": ".py",
   "mimetype": "text/x-python",
   "name": "python",
   "nbconvert_exporter": "python",
   "pygments_lexer": "ipython3",
   "version": "3.7.0"
  }
 },
 "nbformat": 4,
 "nbformat_minor": 2
}
